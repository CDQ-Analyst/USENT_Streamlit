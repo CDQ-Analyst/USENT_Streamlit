{
 "cells": [
  {
   "cell_type": "code",
   "execution_count": 7,
   "id": "168a6eb7",
   "metadata": {},
   "outputs": [
    {
     "name": "stdout",
     "output_type": "stream",
     "text": [
      "^C\n"
     ]
    }
   ],
   "source": [
    "!streamlit run USENT_dashboard.py"
   ]
  },
  {
   "cell_type": "code",
   "execution_count": null,
   "id": "43df5577",
   "metadata": {},
   "outputs": [],
   "source": []
  },
  {
   "cell_type": "code",
   "execution_count": null,
   "id": "d65bf757",
   "metadata": {},
   "outputs": [],
   "source": [
    "!streamlit run USENT2.py"
   ]
  },
  {
   "cell_type": "code",
   "execution_count": null,
   "id": "56346fac",
   "metadata": {},
   "outputs": [],
   "source": []
  }
 ],
 "metadata": {
  "kernelspec": {
   "display_name": "Python 3 (ipykernel)",
   "language": "python",
   "name": "python3"
  },
  "language_info": {
   "codemirror_mode": {
    "name": "ipython",
    "version": 3
   },
   "file_extension": ".py",
   "mimetype": "text/x-python",
   "name": "python",
   "nbconvert_exporter": "python",
   "pygments_lexer": "ipython3",
   "version": "3.11.4"
  }
 },
 "nbformat": 4,
 "nbformat_minor": 5
}

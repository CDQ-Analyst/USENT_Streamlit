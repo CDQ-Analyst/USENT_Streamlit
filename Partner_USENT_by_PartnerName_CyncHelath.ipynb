{
 "cells": [
  {
   "cell_type": "code",
   "execution_count": 1,
   "id": "4c59ca83",
   "metadata": {},
   "outputs": [
    {
     "name": "stderr",
     "output_type": "stream",
     "text": [
      "C:\\Users\\vacoazizs1\\AppData\\Local\\Temp\\1\\ipykernel_22596\\2115660760.py:54: FutureWarning: The error_bad_lines argument has been deprecated and will be removed in a future version. Use on_bad_lines in the future.\n",
      "\n",
      "\n",
      "  df_z=pd.read_csv(f,  error_bad_lines=False)\n",
      "C:\\Users\\vacoazizs1\\AppData\\Local\\Temp\\1\\ipykernel_22596\\2115660760.py:54: FutureWarning: The error_bad_lines argument has been deprecated and will be removed in a future version. Use on_bad_lines in the future.\n",
      "\n",
      "\n",
      "  df_z=pd.read_csv(f,  error_bad_lines=False)\n",
      "C:\\Users\\vacoazizs1\\AppData\\Local\\Temp\\1\\ipykernel_22596\\2115660760.py:54: FutureWarning: The error_bad_lines argument has been deprecated and will be removed in a future version. Use on_bad_lines in the future.\n",
      "\n",
      "\n",
      "  df_z=pd.read_csv(f,  error_bad_lines=False)\n",
      "C:\\Users\\vacoazizs1\\AppData\\Local\\Temp\\1\\ipykernel_22596\\2115660760.py:54: FutureWarning: The error_bad_lines argument has been deprecated and will be removed in a future version. Use on_bad_lines in the future.\n",
      "\n",
      "\n",
      "  df_z=pd.read_csv(f,  error_bad_lines=False)\n",
      "C:\\Users\\vacoazizs1\\AppData\\Local\\Temp\\1\\ipykernel_22596\\2115660760.py:54: FutureWarning: The error_bad_lines argument has been deprecated and will be removed in a future version. Use on_bad_lines in the future.\n",
      "\n",
      "\n",
      "  df_z=pd.read_csv(f,  error_bad_lines=False)\n",
      "C:\\Users\\vacoazizs1\\AppData\\Local\\Temp\\1\\ipykernel_22596\\2115660760.py:54: FutureWarning: The error_bad_lines argument has been deprecated and will be removed in a future version. Use on_bad_lines in the future.\n",
      "\n",
      "\n",
      "  df_z=pd.read_csv(f,  error_bad_lines=False)\n"
     ]
    },
    {
     "name": "stdout",
     "output_type": "stream",
     "text": [
      "\n",
      "(1)  Received CDW xml files:  Z:/CDW/20220601 sample files\n",
      "\n",
      "(2)  Output Path C:\\Users\\vacoazizs1\\Documents\\Received_Zip\\Received_CCDA\\CyncHealth\n",
      "\n",
      "(3)  Total # of xml_files = 190,258\n",
      "\n",
      "(4)  Total # of Summary of Episode Note files = 16,859\n",
      "\n",
      "\n",
      "(5)  Percent of Summary of Episode Note files in the folder/path = 8.86 %\n",
      "\n",
      "\n",
      "run time: hour:min:sec=  0:01:26.572938\n"
     ]
    }
   ],
   "source": [
    "# I do: Select file type (Received_or_Disclosure) and modify date of a target zip folder for unzipped files\n",
    "###################################################################\n",
    "partner = 'CyncHealth'\n",
    "# OID = '2.16.840.1.113883.3.432.0.16.500'\n",
    "Received_or_Disclosure = \"Received\"; # type Received or Disclosure\n",
    "month=\"06\";day=\"01\";year=\"2022\"; # Select month, day, and year\n",
    "\n",
    "output_path = r\"C:\\Users\\vacoazizs1\\Documents\\Received_Zip\\Received_CCDA\\CyncHealth\"\n",
    "###################################################################\n",
    "\n",
    "\n",
    "from datetime import datetime\n",
    "start=datetime.now()\n",
    "# USENT do:\n",
    "import pandas as pd;import numpy as np;import glob;import os;import zipfile; import re\n",
    "#Received_or_Disclosure = \"Received\"; # type Received or Disclosure\n",
    "#month=\"01\";day=\"06\";year=\"2022\"; # Select month, day, and year\n",
    "pd.options.display.max_colwidth = 100; R_D=Received_or_Disclosure\n",
    "date=year+month+day; ym=year+month; f_type=\" sample files\" ; \n",
    "CDW_path = \"Z:/CDW/\";loinc = \"34133-9\"; \n",
    "target_path=CDW_path+date+ f_type;\n",
    "unzip_folder = \"UnzipFolder_\"+R_D+\"/\"\n",
    "# output_path =CDW_path+unzip_folder+ym+\"-\"+loinc+\" \"+R_D+\"/\"+ date +\"_\" +loinc + \"_Mann\"\n",
    "csvpath=\"*Patient\"+R_D+\"CCDA.csv\";z_path = \"*Patient\"+R_D+\"CCDA.zip\"\n",
    "zip_path=glob.glob(os.path.join(CDW_path,target_path, z_path))\n",
    "\n",
    "# zip_path\n",
    "dz=pd.DataFrame(zip_path);dz.columns=[\"path\"];dz.reset_index(inplace=True)\n",
    "# dz\n",
    "# dz['index']=dz['index'].astype(str)\n",
    "path0=(dz.iloc[0,].to_string(index=False))[2:] if 0 in dz.index else []\n",
    "path1=(dz.iloc[1,].to_string(index=False))[2:] if 1 in dz.index else []\n",
    "path2=(dz.iloc[2,].to_string(index=False))[2:] if 2 in dz.index else []\n",
    "path3=(dz.iloc[3,].to_string(index=False))[2:] if 3 in dz.index else []\n",
    "path4=(dz.iloc[4,].to_string(index=False))[2:] if 4 in dz.index else []\n",
    "path5=(dz.iloc[5,].to_string(index=False))[2:] if 5 in dz.index else []\n",
    "\n",
    "# print(path0)\n",
    "\n",
    "pattern = \".*\" + \"\\n\"\n",
    "\n",
    "path0 = re.sub(pattern, '', path0.strip())\n",
    "path1 = re.sub(pattern, '', path1.strip())\n",
    "path2 = re.sub(pattern, '', path2.strip())\n",
    "path3 = re.sub(pattern, '', path3.strip())\n",
    "path4 = re.sub(pattern, '', path4.strip())\n",
    "path5 = re.sub(pattern, '', path5.strip())\n",
    "# print(path0)\n",
    "\n",
    "# USENT do:\n",
    "all_data=pd.DataFrame()\n",
    "df=[]\n",
    "for f in glob.glob(os.path.join(target_path, csvpath)):\n",
    "    df_z=pd.read_csv(f,  error_bad_lines=False)\n",
    "    df.append(df_z)\n",
    "df=pd.concat(df,ignore_index=True)\n",
    "# df1=df[(df[\"Document_LOINC_Code\"]=='34133-9') & (df.Sending_Organization.str.contains(parntner, case=False, na=False))]\n",
    "# df1.shape\n",
    "# df1=df[(df[\"Document_LOINC_Code\"]=='34133-9') & (df.Sending_Organization.str.contains(\"cync\", case=False, na=False))]\n",
    "\n",
    "\n",
    "df1=df[(df[\"Document_LOINC_Code\"]=='34133-9') & df.CCDA_File_Name.str.contains(\".xml\", case=False, na=False)]\n",
    "df1.shape\n",
    "\n",
    "nd=pd.DataFrame(df1, columns=['CCDA_File_Name']).drop_duplicates( keep='first')\n",
    "nd.shape\n",
    "\n",
    "# nd['type'] = np.where(nd.CCDA_File_Name.str.contains(\".xml\", case=False, na=False), \"xml\", 'Other')\n",
    "# nd1=nd[nd['type']=='xml'][['CCDA_File_Name']]\n",
    "\n",
    "c_list=np.array(nd['CCDA_File_Name'].unique()).tolist()\n",
    "len(c_list)\n",
    "\n",
    "csv_list = [i for i in c_list if i in c_list]\n",
    "len(csv_list)\n",
    "percent= np.round( len(csv_list)/len(df) *100, decimals=2)\n",
    "percent\n",
    "\n",
    "\n",
    "print(\"\")\n",
    "print(\"(1) \", R_D,\"CDW xml files: \",target_path)\n",
    "print(\"\")\n",
    "print(\"(2) \",\"Output Path\",output_path)\n",
    "print(\"\")\n",
    "print(\"(3) \",\"Total # of xml_files = {:,}\" .format(len(df))) \n",
    "print(\"\")\n",
    "print(\"(4) \",\"Total # of Summary of Episode Note files = {:,}\" .format(len(csv_list)))\n",
    "print(\"\")\n",
    "print(\"\")\n",
    "print(\"(5) \",\"Percent of Summary of Episode Note files in the folder/path =\", percent, \"%\")\n",
    "print(\"\")\n",
    "print(\"\")\n",
    "\n",
    "\n",
    "# with zipfile.ZipFile(path0) as z:\n",
    "#     for item in (f for f in z.filelist if f.filename in set(csv_list)):\n",
    "#         z.extract(item.filename, output_path)\n",
    "# with zipfile.ZipFile(path1) as z:\n",
    "#     for item in (f for f in z.filelist if f.filename in set(csv_list)):\n",
    "#         z.extract(item.filename, output_path)\n",
    "# with zipfile.ZipFile(path2) as z:\n",
    "#     for item in (f for f in z.filelist if f.filename in set(csv_list)):\n",
    "#         z.extract(item.filename, output_path)\n",
    "# with zipfile.ZipFile(path3) as z:\n",
    "#     for item in (f for f in z.filelist if f.filename in set(csv_list)):\n",
    "#         z.extract(item.filename, output_path)\n",
    "# with zipfile.ZipFile(path4) as z:\n",
    "#     for item in (f for f in z.filelist if f.filename in set(csv_list)):\n",
    "#         z.extract(item.filename, output_path)\n",
    "# with zipfile.ZipFile(path5) as z:\n",
    "#     for item in (f for f in z.filelist if f.filename in set(csv_list)):\n",
    "#         z.extract(item.filename, output_path)\n",
    "        \n",
    "print (\"run time: hour:min:sec= \", datetime.now() - start)  \n",
    "\n"
   ]
  },
  {
   "cell_type": "code",
   "execution_count": null,
   "id": "3bdc25cd",
   "metadata": {},
   "outputs": [],
   "source": []
  },
  {
   "cell_type": "code",
   "execution_count": 2,
   "id": "f1f236c1",
   "metadata": {},
   "outputs": [
    {
     "name": "stderr",
     "output_type": "stream",
     "text": [
      "C:\\Users\\vacoazizs1\\AppData\\Local\\Temp\\1\\ipykernel_22596\\1276119495.py:54: FutureWarning: The error_bad_lines argument has been deprecated and will be removed in a future version. Use on_bad_lines in the future.\n",
      "\n",
      "\n",
      "  df_z=pd.read_csv(f,  error_bad_lines=False)\n",
      "C:\\Users\\vacoazizs1\\AppData\\Local\\Temp\\1\\ipykernel_22596\\1276119495.py:54: FutureWarning: The error_bad_lines argument has been deprecated and will be removed in a future version. Use on_bad_lines in the future.\n",
      "\n",
      "\n",
      "  df_z=pd.read_csv(f,  error_bad_lines=False)\n",
      "C:\\Users\\vacoazizs1\\AppData\\Local\\Temp\\1\\ipykernel_22596\\1276119495.py:54: FutureWarning: The error_bad_lines argument has been deprecated and will be removed in a future version. Use on_bad_lines in the future.\n",
      "\n",
      "\n",
      "  df_z=pd.read_csv(f,  error_bad_lines=False)\n",
      "C:\\Users\\vacoazizs1\\AppData\\Local\\Temp\\1\\ipykernel_22596\\1276119495.py:54: FutureWarning: The error_bad_lines argument has been deprecated and will be removed in a future version. Use on_bad_lines in the future.\n",
      "\n",
      "\n",
      "  df_z=pd.read_csv(f,  error_bad_lines=False)\n",
      "C:\\Users\\vacoazizs1\\AppData\\Local\\Temp\\1\\ipykernel_22596\\1276119495.py:54: FutureWarning: The error_bad_lines argument has been deprecated and will be removed in a future version. Use on_bad_lines in the future.\n",
      "\n",
      "\n",
      "  df_z=pd.read_csv(f,  error_bad_lines=False)\n",
      "C:\\Users\\vacoazizs1\\AppData\\Local\\Temp\\1\\ipykernel_22596\\1276119495.py:54: FutureWarning: The error_bad_lines argument has been deprecated and will be removed in a future version. Use on_bad_lines in the future.\n",
      "\n",
      "\n",
      "  df_z=pd.read_csv(f,  error_bad_lines=False)\n"
     ]
    },
    {
     "name": "stdout",
     "output_type": "stream",
     "text": [
      "(190258, 17)\n",
      "run time: hour:min:sec=  0:00:46.119748\n"
     ]
    }
   ],
   "source": [
    "# I do: Select file type (Received_or_Disclosure) and modify date of a target zip folder for unzipped files\n",
    "###################################################################\n",
    "partner = 'CyncHealth'\n",
    "# OID = '2.16.840.1.113883.3.432.0.16.500'\n",
    "Received_or_Disclosure = \"Received\"; # type Received or Disclosure\n",
    "month=\"06\";day=\"01\";year=\"2022\"; # Select month, day, and year\n",
    "\n",
    "output_path = r\"C:\\Users\\vacoazizs1\\Documents\\Received_Zip\\Received_CCDA\\CyncHealth\"\n",
    "###################################################################\n",
    "\n",
    "\n",
    "from datetime import datetime\n",
    "start=datetime.now()\n",
    "# USENT do:\n",
    "import pandas as pd;import numpy as np;import glob;import os;import zipfile; import re\n",
    "#Received_or_Disclosure = \"Received\"; # type Received or Disclosure\n",
    "#month=\"01\";day=\"06\";year=\"2022\"; # Select month, day, and year\n",
    "pd.options.display.max_colwidth = 100; R_D=Received_or_Disclosure\n",
    "date=year+month+day; ym=year+month; f_type=\" sample files\" ; \n",
    "CDW_path = \"Z:/CDW/\";loinc = \"34133-9\"; \n",
    "target_path=CDW_path+date+ f_type;\n",
    "unzip_folder = \"UnzipFolder_\"+R_D+\"/\"\n",
    "# output_path =CDW_path+unzip_folder+ym+\"-\"+loinc+\" \"+R_D+\"/\"+ date +\"_\" +loinc + \"_Mann\"\n",
    "csvpath=\"*Patient\"+R_D+\"CCDA.csv\";z_path = \"*Patient\"+R_D+\"CCDA.zip\"\n",
    "zip_path=glob.glob(os.path.join(CDW_path,target_path, z_path))\n",
    "\n",
    "# zip_path\n",
    "dz=pd.DataFrame(zip_path);dz.columns=[\"path\"];dz.reset_index(inplace=True)\n",
    "# dz\n",
    "# dz['index']=dz['index'].astype(str)\n",
    "path0=(dz.iloc[0,].to_string(index=False))[2:] if 0 in dz.index else []\n",
    "path1=(dz.iloc[1,].to_string(index=False))[2:] if 1 in dz.index else []\n",
    "path2=(dz.iloc[2,].to_string(index=False))[2:] if 2 in dz.index else []\n",
    "path3=(dz.iloc[3,].to_string(index=False))[2:] if 3 in dz.index else []\n",
    "path4=(dz.iloc[4,].to_string(index=False))[2:] if 4 in dz.index else []\n",
    "path5=(dz.iloc[5,].to_string(index=False))[2:] if 5 in dz.index else []\n",
    "\n",
    "# print(path0)\n",
    "\n",
    "pattern = \".*\" + \"\\n\"\n",
    "\n",
    "path0 = re.sub(pattern, '', path0.strip())\n",
    "path1 = re.sub(pattern, '', path1.strip())\n",
    "path2 = re.sub(pattern, '', path2.strip())\n",
    "path3 = re.sub(pattern, '', path3.strip())\n",
    "path4 = re.sub(pattern, '', path4.strip())\n",
    "path5 = re.sub(pattern, '', path5.strip())\n",
    "# print(path0)\n",
    "\n",
    "# USENT do:\n",
    "all_data=pd.DataFrame()\n",
    "df=[]\n",
    "for f in glob.glob(os.path.join(target_path, csvpath)):\n",
    "    df_z=pd.read_csv(f,  error_bad_lines=False)\n",
    "    df.append(df_z)\n",
    "df=pd.concat(df,ignore_index=True)\n",
    "print(df.shape)\n",
    "# df1=df[(df[\"Document_LOINC_Code\"]=='34133-9') & (df.Sending_Organization.str.contains(parntner, case=False, na=False))]\n",
    "# df1.shape\n",
    "# df1=df[(df[\"Document_LOINC_Code\"]=='34133-9') & (df.Sending_Organization.str.contains(\"cync\", case=False, na=False))]\n",
    "\n",
    "# df1=df[(df[\"Document_LOINC_Code\"]=='34133-9') & df.CCDA_File_Name.str.contains(\".xml\", case=False, na=False)]\n",
    "# df1.shape\n",
    "# nd=pd.DataFrame(df1, columns=['CCDA_File_Name']).drop_duplicates( keep='first')\n",
    "# nd.shape\n",
    "\n",
    "\n",
    "# df1 = df[['CCDA_File_Name', 'Document_LOINC_Code', 'Sending_Organization']]\n",
    "# df2= df1[(df1[\"Document_LOINC_Code\"]=='34133-9') & df1.CCDA_File_Name.str.contains(\".xml\", case=False, na=False)]\n",
    "# nd=pd.DataFrame(df2, columns=['CCDA_File_Name']).drop_duplicates( keep='first')\n",
    "# print(nd.shape)\n",
    "# c_list=np.array(nd['CCDA_File_Name'].unique()).tolist()\n",
    "# len(c_list)\n",
    "\n",
    "# csv_list = [i for i in c_list if i in c_list]\n",
    "# len(csv_list)\n",
    "# percent= np.round( len(csv_list)/len(df) *100, decimals=2)\n",
    "# percent\n",
    "\n",
    "\n",
    "# print(\"\")\n",
    "# print(\"(1) \", R_D,\"CDW xml files: \",target_path)\n",
    "# print(\"\")\n",
    "# print(\"(2) \",\"Output Path\",output_path)\n",
    "# print(\"\")\n",
    "# print(\"(3) \",\"Total # of xml_files = {:,}\" .format(len(df))) \n",
    "# print(\"\")\n",
    "# print(\"(4) \",\"Total # of Summary of Episode Note files = {:,}\" .format(len(csv_list)))\n",
    "# print(\"\")\n",
    "# print(\"\")\n",
    "# print(\"(5) \",\"Percent of Summary of Episode Note files in the folder/path =\", percent, \"%\")\n",
    "# print(\"\")\n",
    "# print(\"\")\n",
    "\n",
    "\n",
    "# with zipfile.ZipFile(path0) as z:\n",
    "#     for item in (f for f in z.filelist if f.filename in set(csv_list)):\n",
    "#         z.extract(item.filename, output_path)\n",
    "# with zipfile.ZipFile(path1) as z:\n",
    "#     for item in (f for f in z.filelist if f.filename in set(csv_list)):\n",
    "#         z.extract(item.filename, output_path)\n",
    "# with zipfile.ZipFile(path2) as z:\n",
    "#     for item in (f for f in z.filelist if f.filename in set(csv_list)):\n",
    "#         z.extract(item.filename, output_path)\n",
    "# with zipfile.ZipFile(path3) as z:\n",
    "#     for item in (f for f in z.filelist if f.filename in set(csv_list)):\n",
    "#         z.extract(item.filename, output_path)\n",
    "# with zipfile.ZipFile(path4) as z:\n",
    "#     for item in (f for f in z.filelist if f.filename in set(csv_list)):\n",
    "#         z.extract(item.filename, output_path)\n",
    "# with zipfile.ZipFile(path5) as z:\n",
    "#     for item in (f for f in z.filelist if f.filename in set(csv_list)):\n",
    "#         z.extract(item.filename, output_path)\n",
    "        \n",
    "print (\"run time: hour:min:sec= \", datetime.now() - start)  \n",
    "\n"
   ]
  },
  {
   "cell_type": "code",
   "execution_count": 1,
   "id": "09edbae2",
   "metadata": {},
   "outputs": [
    {
     "name": "stderr",
     "output_type": "stream",
     "text": [
      "C:\\Users\\vacoazizs1\\AppData\\Local\\Temp\\1\\ipykernel_17048\\3492462856.py:54: FutureWarning: The error_bad_lines argument has been deprecated and will be removed in a future version. Use on_bad_lines in the future.\n",
      "\n",
      "\n",
      "  df_z=pd.read_csv(f,  error_bad_lines=False, usecols=['CCDA_File_Name', 'Document_LOINC_Code', 'Sending_Organization'])\n",
      "C:\\Users\\vacoazizs1\\AppData\\Local\\Temp\\1\\ipykernel_17048\\3492462856.py:54: FutureWarning: The error_bad_lines argument has been deprecated and will be removed in a future version. Use on_bad_lines in the future.\n",
      "\n",
      "\n",
      "  df_z=pd.read_csv(f,  error_bad_lines=False, usecols=['CCDA_File_Name', 'Document_LOINC_Code', 'Sending_Organization'])\n",
      "C:\\Users\\vacoazizs1\\AppData\\Local\\Temp\\1\\ipykernel_17048\\3492462856.py:54: FutureWarning: The error_bad_lines argument has been deprecated and will be removed in a future version. Use on_bad_lines in the future.\n",
      "\n",
      "\n",
      "  df_z=pd.read_csv(f,  error_bad_lines=False, usecols=['CCDA_File_Name', 'Document_LOINC_Code', 'Sending_Organization'])\n",
      "C:\\Users\\vacoazizs1\\AppData\\Local\\Temp\\1\\ipykernel_17048\\3492462856.py:54: FutureWarning: The error_bad_lines argument has been deprecated and will be removed in a future version. Use on_bad_lines in the future.\n",
      "\n",
      "\n",
      "  df_z=pd.read_csv(f,  error_bad_lines=False, usecols=['CCDA_File_Name', 'Document_LOINC_Code', 'Sending_Organization'])\n",
      "C:\\Users\\vacoazizs1\\AppData\\Local\\Temp\\1\\ipykernel_17048\\3492462856.py:54: FutureWarning: The error_bad_lines argument has been deprecated and will be removed in a future version. Use on_bad_lines in the future.\n",
      "\n",
      "\n",
      "  df_z=pd.read_csv(f,  error_bad_lines=False, usecols=['CCDA_File_Name', 'Document_LOINC_Code', 'Sending_Organization'])\n",
      "C:\\Users\\vacoazizs1\\AppData\\Local\\Temp\\1\\ipykernel_17048\\3492462856.py:54: FutureWarning: The error_bad_lines argument has been deprecated and will be removed in a future version. Use on_bad_lines in the future.\n",
      "\n",
      "\n",
      "  df_z=pd.read_csv(f,  error_bad_lines=False, usecols=['CCDA_File_Name', 'Document_LOINC_Code', 'Sending_Organization'])\n"
     ]
    },
    {
     "name": "stdout",
     "output_type": "stream",
     "text": [
      "\n",
      "(1)  Received CDW xml files:  Z:/CDW/20220908 sample files\n",
      "\n",
      "(2)  Output Path C:\\Users\\vacoazizs1\\Documents\\Received_Zip\\Received_CCDA\\CyncHealth\n",
      "\n",
      "(3)  Total # of xml_files = 291,636\n",
      "\n",
      "(4)  Total # of Summary of Episode Note files = 32,458\n",
      "\n",
      "\n",
      "(5)  Percent of Summary of Episode Note files in the folder/path = 11.13 %\n",
      "\n",
      "\n",
      "run time: hour:min:sec=  0:02:12.357848\n"
     ]
    }
   ],
   "source": [
    "# I do: Select file type (Received_or_Disclosure) and modify date of a target zip folder for unzipped files\n",
    "###################################################################\n",
    "partner = 'CyncHealth'\n",
    "# OID = '2.16.840.1.113883.3.432.0.16.500'\n",
    "Received_or_Disclosure = \"Received\"; # type Received or Disclosure\n",
    "month=\"09\";day=\"08\";year=\"2022\"; # Select month, day, and year\n",
    "\n",
    "output_path = r\"C:\\Users\\vacoazizs1\\Documents\\Received_Zip\\Received_CCDA\\CyncHealth\"\n",
    "###################################################################\n",
    "\n",
    "\n",
    "from datetime import datetime\n",
    "start=datetime.now()\n",
    "# USENT do:\n",
    "import pandas as pd;import numpy as np;import glob;import os;import zipfile; import re\n",
    "#Received_or_Disclosure = \"Received\"; # type Received or Disclosure\n",
    "#month=\"01\";day=\"06\";year=\"2022\"; # Select month, day, and year\n",
    "pd.options.display.max_colwidth = 100; R_D=Received_or_Disclosure\n",
    "date=year+month+day; ym=year+month; f_type=\" sample files\" ; \n",
    "CDW_path = \"Z:/CDW/\";loinc = \"34133-9\"; \n",
    "target_path=CDW_path+date+ f_type;\n",
    "unzip_folder = \"UnzipFolder_\"+R_D+\"/\"\n",
    "# output_path =CDW_path+unzip_folder+ym+\"-\"+loinc+\" \"+R_D+\"/\"+ date +\"_\" +loinc + \"_Mann\"\n",
    "csvpath=\"*Patient\"+R_D+\"CCDA.csv\";z_path = \"*Patient\"+R_D+\"CCDA.zip\"\n",
    "zip_path=glob.glob(os.path.join(CDW_path,target_path, z_path))\n",
    "\n",
    "# zip_path\n",
    "dz=pd.DataFrame(zip_path);dz.columns=[\"path\"];dz.reset_index(inplace=True)\n",
    "# dz\n",
    "# dz['index']=dz['index'].astype(str)\n",
    "path0=(dz.iloc[0,].to_string(index=False))[2:] if 0 in dz.index else []\n",
    "path1=(dz.iloc[1,].to_string(index=False))[2:] if 1 in dz.index else []\n",
    "path2=(dz.iloc[2,].to_string(index=False))[2:] if 2 in dz.index else []\n",
    "path3=(dz.iloc[3,].to_string(index=False))[2:] if 3 in dz.index else []\n",
    "path4=(dz.iloc[4,].to_string(index=False))[2:] if 4 in dz.index else []\n",
    "path5=(dz.iloc[5,].to_string(index=False))[2:] if 5 in dz.index else []\n",
    "\n",
    "# print(path0)\n",
    "\n",
    "pattern = \".*\" + \"\\n\"\n",
    "\n",
    "path0 = re.sub(pattern, '', path0.strip())\n",
    "path1 = re.sub(pattern, '', path1.strip())\n",
    "path2 = re.sub(pattern, '', path2.strip())\n",
    "path3 = re.sub(pattern, '', path3.strip())\n",
    "path4 = re.sub(pattern, '', path4.strip())\n",
    "path5 = re.sub(pattern, '', path5.strip())\n",
    "# print(path0)\n",
    "\n",
    "# USENT do:\n",
    "all_data=pd.DataFrame()\n",
    "df=[]\n",
    "for f in glob.glob(os.path.join(target_path, csvpath)):\n",
    "    df_z=pd.read_csv(f,  error_bad_lines=False, usecols=['CCDA_File_Name', 'Document_LOINC_Code', 'Sending_Organization'])\n",
    "    df.append(df_z)\n",
    "df=pd.concat(df,ignore_index=True)\n",
    "# print(df.shape)\n",
    "# df1=df[(df[\"Document_LOINC_Code\"]=='34133-9') & (df.Sending_Organization.str.contains(parntner, case=False, na=False))]\n",
    "# df1.shape\n",
    "# df1=df[(df[\"Document_LOINC_Code\"]=='34133-9') & (df.Sending_Organization.str.contains(\"cync\", case=False, na=False))]\n",
    "\n",
    "# df1=df[(df[\"Document_LOINC_Code\"]=='34133-9') & df.CCDA_File_Name.str.contains(\".xml\", case=False, na=False)]\n",
    "# df1.shape\n",
    "# nd=pd.DataFrame(df1, columns=['CCDA_File_Name']).drop_duplicates( keep='first')\n",
    "# nd.shape\n",
    "\n",
    "# df1 = df[['CCDA_File_Name', 'Document_LOINC_Code', 'Sending_Organization']]\n",
    "\n",
    "df2= df[(df[\"Document_LOINC_Code\"]=='34133-9') & df.CCDA_File_Name.str.contains(\".xml\", case=False, na=False)]\n",
    "nd=pd.DataFrame(df2, columns=['CCDA_File_Name']).drop_duplicates( keep='first')\n",
    "c_list=np.array(nd['CCDA_File_Name'].unique()).tolist()\n",
    "\n",
    "\n",
    "csv_list = [i for i in c_list if i in c_list]\n",
    "# len(csv_list)\n",
    "percent= np.round( len(csv_list)/len(df) *100, decimals=2)\n",
    "# percent\n",
    "\n",
    "\n",
    "print(\"\")\n",
    "print(\"(1) \", R_D,\"CDW xml files: \",target_path)\n",
    "print(\"\")\n",
    "print(\"(2) \",\"Output Path\",output_path)\n",
    "print(\"\")\n",
    "print(\"(3) \",\"Total # of xml_files = {:,}\" .format(len(df))) \n",
    "print(\"\")\n",
    "print(\"(4) \",\"Total # of Summary of Episode Note files = {:,}\" .format(len(csv_list)))\n",
    "print(\"\")\n",
    "print(\"\")\n",
    "print(\"(5) \",\"Percent of Summary of Episode Note files in the folder/path =\", percent, \"%\")\n",
    "print(\"\")\n",
    "print(\"\")\n",
    "\n",
    "\n",
    "# with zipfile.ZipFile(path0) as z:\n",
    "#     for item in (f for f in z.filelist if f.filename in set(csv_list)):\n",
    "#         z.extract(item.filename, output_path)\n",
    "# with zipfile.ZipFile(path1) as z:\n",
    "#     for item in (f for f in z.filelist if f.filename in set(csv_list)):\n",
    "#         z.extract(item.filename, output_path)\n",
    "# with zipfile.ZipFile(path2) as z:\n",
    "#     for item in (f for f in z.filelist if f.filename in set(csv_list)):\n",
    "#         z.extract(item.filename, output_path)\n",
    "# with zipfile.ZipFile(path3) as z:\n",
    "#     for item in (f for f in z.filelist if f.filename in set(csv_list)):\n",
    "#         z.extract(item.filename, output_path)\n",
    "# with zipfile.ZipFile(path4) as z:\n",
    "#     for item in (f for f in z.filelist if f.filename in set(csv_list)):\n",
    "#         z.extract(item.filename, output_path)\n",
    "# with zipfile.ZipFile(path5) as z:\n",
    "#     for item in (f for f in z.filelist if f.filename in set(csv_list)):\n",
    "#         z.extract(item.filename, output_path)\n",
    "        \n",
    "print (\"run time: hour:min:sec= \", datetime.now() - start)  \n",
    "\n"
   ]
  },
  {
   "cell_type": "code",
   "execution_count": 3,
   "id": "92f85cba",
   "metadata": {},
   "outputs": [
    {
     "data": {
      "text/plain": [
       "SacValleyMedShare    11\n",
       "Name: Sending_Organization, dtype: int64"
      ]
     },
     "execution_count": 3,
     "metadata": {},
     "output_type": "execute_result"
    }
   ],
   "source": [
    "df.shape\n",
    "df.columns\n",
    "# df.Sending_Organization.value_counts()\n",
    "df1 =df.loc[df.Sending_Organization.str.contains(\"sac\", case=False, na=False)]\n",
    "df1.shape\n",
    "df1.Sending_Organization.value_counts()"
   ]
  },
  {
   "cell_type": "code",
   "execution_count": 12,
   "id": "e18e255e",
   "metadata": {},
   "outputs": [
    {
     "name": "stdout",
     "output_type": "stream",
     "text": [
      "(32458, 1)\n",
      "xml      258122\n",
      "Other     33514\n",
      "Name: type, dtype: int64\n",
      "(258122, 1)\n"
     ]
    },
    {
     "data": {
      "text/html": [
       "<div>\n",
       "<style scoped>\n",
       "    .dataframe tbody tr th:only-of-type {\n",
       "        vertical-align: middle;\n",
       "    }\n",
       "\n",
       "    .dataframe tbody tr th {\n",
       "        vertical-align: top;\n",
       "    }\n",
       "\n",
       "    .dataframe thead th {\n",
       "        text-align: right;\n",
       "    }\n",
       "</style>\n",
       "<table border=\"1\" class=\"dataframe\">\n",
       "  <thead>\n",
       "    <tr style=\"text-align: right;\">\n",
       "      <th></th>\n",
       "      <th>CCDA_File_Name</th>\n",
       "    </tr>\n",
       "  </thead>\n",
       "  <tbody>\n",
       "    <tr>\n",
       "      <th>0</th>\n",
       "      <td>12840114350113283278688883833876753_20220907100640085000_799448173396.xml</td>\n",
       "    </tr>\n",
       "    <tr>\n",
       "      <th>1</th>\n",
       "      <td>09244266800dbf1963f7a7d8b9dc27294684562074_20220907100644403000_799448467418.xml</td>\n",
       "    </tr>\n",
       "    <tr>\n",
       "      <th>2</th>\n",
       "      <td>12840114350113195278688883880056272_20220907100645529000_799456624597.xml</td>\n",
       "    </tr>\n",
       "    <tr>\n",
       "      <th>3</th>\n",
       "      <td>1284011435011336327868888358696754_20220907100647972000_799455260869.xml</td>\n",
       "    </tr>\n",
       "    <tr>\n",
       "      <th>4</th>\n",
       "      <td>12840114350113341278688883124068513_20220907100647294000_799456624635.xml</td>\n",
       "    </tr>\n",
       "  </tbody>\n",
       "</table>\n",
       "</div>"
      ],
      "text/plain": [
       "                                                                     CCDA_File_Name\n",
       "0         12840114350113283278688883833876753_20220907100640085000_799448173396.xml\n",
       "1  09244266800dbf1963f7a7d8b9dc27294684562074_20220907100644403000_799448467418.xml\n",
       "2         12840114350113195278688883880056272_20220907100645529000_799456624597.xml\n",
       "3          1284011435011336327868888358696754_20220907100647972000_799455260869.xml\n",
       "4         12840114350113341278688883124068513_20220907100647294000_799456624635.xml"
      ]
     },
     "execution_count": 12,
     "metadata": {},
     "output_type": "execute_result"
    }
   ],
   "source": [
    "# df1.shape\n",
    "print(nd.shape)\n",
    "# nd.head()\n",
    "df['type'] = np.where(df.CCDA_File_Name.str.contains(\".xml\", case=False, na=False), \"xml\", 'Other')\n",
    "# nd['type'] = np.where(nd.type.str.contains(\".json\", case=False, na=False), \"json\", nd.type)\n",
    "# nd['type'] = np.where(nd.type.str.contains(\".pdf\", case=False, na=False), \"pdf\", nd.type)\n",
    "# nd['type'] = np.where(~nd.type.isin(['xml', 'json', 'pdf']), \"Other\", nd.type)\n",
    "# nd[nd['type']==\"Other\"].value_counts()\n",
    "\n",
    "# nd['type'] = [\"xml\" if i =='xml' else 'pdf' if i=='pdf' else 'json' if i=='json' else 'Other' for i in nd.CCDA_File_Name]\n",
    "print(df['type'].value_counts())\n",
    "\n",
    "nd1=df[df['type']=='xml'][['CCDA_File_Name']]\n",
    "print(nd1.shape)\n",
    "nd1.head()\n"
   ]
  },
  {
   "cell_type": "code",
   "execution_count": 10,
   "id": "8d5ac5d2",
   "metadata": {},
   "outputs": [
    {
     "data": {
      "text/plain": [
       "0.12574673991368424"
      ]
     },
     "execution_count": 10,
     "metadata": {},
     "output_type": "execute_result"
    }
   ],
   "source": [
    "32458/258122\n"
   ]
  },
  {
   "cell_type": "code",
   "execution_count": 23,
   "id": "8c09b56c",
   "metadata": {},
   "outputs": [
    {
     "data": {
      "text/plain": [
       "(16859, 17)"
      ]
     },
     "execution_count": 23,
     "metadata": {},
     "output_type": "execute_result"
    }
   ],
   "source": [
    "df1=df[(df[\"Document_LOINC_Code\"]=='34133-9') & df.CCDA_File_Name.str.contains(\".xml\", case=False, na=False)]\n",
    "df1.shape"
   ]
  },
  {
   "cell_type": "code",
   "execution_count": null,
   "id": "f0a3265c",
   "metadata": {},
   "outputs": [],
   "source": []
  },
  {
   "cell_type": "code",
   "execution_count": 2,
   "id": "25387f2e",
   "metadata": {},
   "outputs": [
    {
     "data": {
      "text/plain": [
       "MERCY_HEALTH_ARKANSAS    486\n",
       "U_Arkansas_MS            150\n",
       "KansasHIN                 49\n",
       "Name: Sending_Organization, dtype: int64"
      ]
     },
     "execution_count": 2,
     "metadata": {},
     "output_type": "execute_result"
    }
   ],
   "source": [
    "df2=df[df.Sending_Organization.str.contains(\"Kansas\", case=False, na=False)]\n",
    "df2.Sending_Organization.value_counts()"
   ]
  },
  {
   "cell_type": "code",
   "execution_count": 9,
   "id": "d229f428",
   "metadata": {},
   "outputs": [
    {
     "data": {
      "text/plain": [
       "(16947, 17)"
      ]
     },
     "execution_count": 9,
     "metadata": {},
     "output_type": "execute_result"
    }
   ],
   "source": [
    "df3 = df.loc[(df[\"Document_LOINC_Code\"]=='34133-9')]\n",
    "df3.shape"
   ]
  },
  {
   "cell_type": "code",
   "execution_count": 12,
   "id": "820a001d",
   "metadata": {},
   "outputs": [
    {
     "data": {
      "text/plain": [
       "(0, 17)"
      ]
     },
     "execution_count": 12,
     "metadata": {},
     "output_type": "execute_result"
    }
   ],
   "source": [
    "df1 = df3.loc[df3.Sending_Organization.str.contains(\"Cync\", case=False, na=False)]\n",
    "df1.shape"
   ]
  },
  {
   "cell_type": "code",
   "execution_count": 11,
   "id": "b11e9542",
   "metadata": {},
   "outputs": [
    {
     "data": {
      "text/plain": [
       "CommonWell                      4170\n",
       "NC_HealthConnex                 1841\n",
       "Clinisync                        401\n",
       "HSX                              381\n",
       "MERCY_HEALTH                     369\n",
       "                                ... \n",
       "Southern_Illinois_Healthcare       1\n",
       "Regional_Health_SD                 1\n",
       "Childrens_Health_TX                1\n",
       "Cheyenne_Regional                  1\n",
       "Childrens_Hospital_Colorado        1\n",
       "Name: Sending_Organization, Length: 237, dtype: int64"
      ]
     },
     "execution_count": 11,
     "metadata": {},
     "output_type": "execute_result"
    }
   ],
   "source": [
    "df3.Sending_Organization.value_counts()"
   ]
  },
  {
   "cell_type": "code",
   "execution_count": 16,
   "id": "33d7f98a",
   "metadata": {},
   "outputs": [
    {
     "data": {
      "text/plain": [
       "34095-0    12\n",
       "Name: Document_LOINC_Code, dtype: int64"
      ]
     },
     "execution_count": 16,
     "metadata": {},
     "output_type": "execute_result"
    }
   ],
   "source": [
    "df2=df[df.Sending_Organization.str.contains(\"cync\", case=False, na=False)]\n",
    "df2.Document_LOINC_Code.value_counts()"
   ]
  },
  {
   "cell_type": "code",
   "execution_count": null,
   "id": "2f6d807f",
   "metadata": {},
   "outputs": [],
   "source": []
  }
 ],
 "metadata": {
  "kernelspec": {
   "display_name": "Python 3 (ipykernel)",
   "language": "python",
   "name": "python3"
  },
  "language_info": {
   "codemirror_mode": {
    "name": "ipython",
    "version": 3
   },
   "file_extension": ".py",
   "mimetype": "text/x-python",
   "name": "python",
   "nbconvert_exporter": "python",
   "pygments_lexer": "ipython3",
   "version": "3.10.9"
  }
 },
 "nbformat": 4,
 "nbformat_minor": 5
}
